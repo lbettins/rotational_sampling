{
 "cells": [
  {
   "cell_type": "code",
   "execution_count": 1,
   "id": "e4319485",
   "metadata": {},
   "outputs": [],
   "source": [
    "import numpy as np\n",
    "import numgrid"
   ]
  },
  {
   "cell_type": "code",
   "execution_count": null,
   "id": "fab1db39",
   "metadata": {},
   "outputs": [],
   "source": [
    "ngrid = [50, 74, 110]\n",
    "\n",
    "for n in ngrid:\n",
    "    xyz,wts = numgrid.angular_grid(n)\n",
    "    resol = 2*np.sqrt(np.pi/n)\n",
    "    \n",
    "    # Test 5 different chi values 30 deg apart\n",
    "    chi = np.array([0, np.pi/6, 2*np.pi/6, np.pi/2, 2*np.pi/3])\n",
    "    "
   ]
  }
 ],
 "metadata": {
  "kernelspec": {
   "display_name": "Python 3 (ipykernel)",
   "language": "python",
   "name": "python3"
  },
  "language_info": {
   "codemirror_mode": {
    "name": "ipython",
    "version": 3
   },
   "file_extension": ".py",
   "mimetype": "text/x-python",
   "name": "python",
   "nbconvert_exporter": "python",
   "pygments_lexer": "ipython3",
   "version": "3.9.6"
  }
 },
 "nbformat": 4,
 "nbformat_minor": 5
}
